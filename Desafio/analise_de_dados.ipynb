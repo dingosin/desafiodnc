{
 "cells": [
  {
   "cell_type": "markdown",
   "id": "d65a56bc",
   "metadata": {},
   "source": [
    "Pacotes para Utilizar"
   ]
  },
  {
   "cell_type": "code",
   "execution_count": 44,
   "id": "c905f959",
   "metadata": {},
   "outputs": [],
   "source": [
    "import pandas as pd\n",
    "import seaborn as sns\n",
    "import matplotlib.pyplot as plt"
   ]
  },
  {
   "cell_type": "markdown",
   "id": "2ac2f6ec",
   "metadata": {},
   "source": [
    "Importando os dados para apreciação."
   ]
  },
  {
   "cell_type": "code",
   "execution_count": 45,
   "id": "fc651d09",
   "metadata": {},
   "outputs": [
    {
     "data": {
      "text/html": [
       "<div>\n",
       "<style scoped>\n",
       "    .dataframe tbody tr th:only-of-type {\n",
       "        vertical-align: middle;\n",
       "    }\n",
       "\n",
       "    .dataframe tbody tr th {\n",
       "        vertical-align: top;\n",
       "    }\n",
       "\n",
       "    .dataframe thead th {\n",
       "        text-align: right;\n",
       "    }\n",
       "</style>\n",
       "<table border=\"1\" class=\"dataframe\">\n",
       "  <thead>\n",
       "    <tr style=\"text-align: right;\">\n",
       "      <th></th>\n",
       "      <th>work_year</th>\n",
       "      <th>country</th>\n",
       "      <th>region</th>\n",
       "      <th>experience_level</th>\n",
       "      <th>job_title</th>\n",
       "      <th>salary_in_usd</th>\n",
       "      <th>employee_residence</th>\n",
       "      <th>company_location</th>\n",
       "      <th>company_size</th>\n",
       "      <th>years_of_experience</th>\n",
       "    </tr>\n",
       "  </thead>\n",
       "  <tbody>\n",
       "    <tr>\n",
       "      <th>0</th>\n",
       "      <td>2023</td>\n",
       "      <td>Spain</td>\n",
       "      <td>Europe</td>\n",
       "      <td>SE</td>\n",
       "      <td>Principal Data Scientist</td>\n",
       "      <td>85847</td>\n",
       "      <td>ES</td>\n",
       "      <td>ES</td>\n",
       "      <td>L</td>\n",
       "      <td>8</td>\n",
       "    </tr>\n",
       "    <tr>\n",
       "      <th>1</th>\n",
       "      <td>2023</td>\n",
       "      <td>United States of America</td>\n",
       "      <td>Americas</td>\n",
       "      <td>MI</td>\n",
       "      <td>ML Engineer</td>\n",
       "      <td>30000</td>\n",
       "      <td>US</td>\n",
       "      <td>US</td>\n",
       "      <td>S</td>\n",
       "      <td>5</td>\n",
       "    </tr>\n",
       "    <tr>\n",
       "      <th>2</th>\n",
       "      <td>2023</td>\n",
       "      <td>United States of America</td>\n",
       "      <td>Americas</td>\n",
       "      <td>MI</td>\n",
       "      <td>ML Engineer</td>\n",
       "      <td>25500</td>\n",
       "      <td>US</td>\n",
       "      <td>US</td>\n",
       "      <td>S</td>\n",
       "      <td>3</td>\n",
       "    </tr>\n",
       "    <tr>\n",
       "      <th>3</th>\n",
       "      <td>2023</td>\n",
       "      <td>Canada</td>\n",
       "      <td>Americas</td>\n",
       "      <td>SE</td>\n",
       "      <td>Data Scientist</td>\n",
       "      <td>175000</td>\n",
       "      <td>CA</td>\n",
       "      <td>CA</td>\n",
       "      <td>M</td>\n",
       "      <td>8</td>\n",
       "    </tr>\n",
       "    <tr>\n",
       "      <th>4</th>\n",
       "      <td>2023</td>\n",
       "      <td>Canada</td>\n",
       "      <td>Americas</td>\n",
       "      <td>SE</td>\n",
       "      <td>Data Scientist</td>\n",
       "      <td>120000</td>\n",
       "      <td>CA</td>\n",
       "      <td>CA</td>\n",
       "      <td>M</td>\n",
       "      <td>8</td>\n",
       "    </tr>\n",
       "    <tr>\n",
       "      <th>5</th>\n",
       "      <td>2023</td>\n",
       "      <td>United States of America</td>\n",
       "      <td>Americas</td>\n",
       "      <td>SE</td>\n",
       "      <td>Applied Scientist</td>\n",
       "      <td>222200</td>\n",
       "      <td>US</td>\n",
       "      <td>US</td>\n",
       "      <td>L</td>\n",
       "      <td>6</td>\n",
       "    </tr>\n",
       "    <tr>\n",
       "      <th>6</th>\n",
       "      <td>2023</td>\n",
       "      <td>United States of America</td>\n",
       "      <td>Americas</td>\n",
       "      <td>SE</td>\n",
       "      <td>Applied Scientist</td>\n",
       "      <td>136000</td>\n",
       "      <td>US</td>\n",
       "      <td>US</td>\n",
       "      <td>L</td>\n",
       "      <td>6</td>\n",
       "    </tr>\n",
       "    <tr>\n",
       "      <th>7</th>\n",
       "      <td>2023</td>\n",
       "      <td>Canada</td>\n",
       "      <td>Americas</td>\n",
       "      <td>SE</td>\n",
       "      <td>Data Scientist</td>\n",
       "      <td>219000</td>\n",
       "      <td>CA</td>\n",
       "      <td>CA</td>\n",
       "      <td>M</td>\n",
       "      <td>6</td>\n",
       "    </tr>\n",
       "  </tbody>\n",
       "</table>\n",
       "</div>"
      ],
      "text/plain": [
       "   work_year                   country    region experience_level  \\\n",
       "0       2023                     Spain    Europe               SE   \n",
       "1       2023  United States of America  Americas               MI   \n",
       "2       2023  United States of America  Americas               MI   \n",
       "3       2023                    Canada  Americas               SE   \n",
       "4       2023                    Canada  Americas               SE   \n",
       "5       2023  United States of America  Americas               SE   \n",
       "6       2023  United States of America  Americas               SE   \n",
       "7       2023                    Canada  Americas               SE   \n",
       "\n",
       "                  job_title  salary_in_usd employee_residence  \\\n",
       "0  Principal Data Scientist          85847                 ES   \n",
       "1               ML Engineer          30000                 US   \n",
       "2               ML Engineer          25500                 US   \n",
       "3            Data Scientist         175000                 CA   \n",
       "4            Data Scientist         120000                 CA   \n",
       "5         Applied Scientist         222200                 US   \n",
       "6         Applied Scientist         136000                 US   \n",
       "7            Data Scientist         219000                 CA   \n",
       "\n",
       "  company_location company_size  years_of_experience  \n",
       "0               ES            L                    8  \n",
       "1               US            S                    5  \n",
       "2               US            S                    3  \n",
       "3               CA            M                    8  \n",
       "4               CA            M                    8  \n",
       "5               US            L                    6  \n",
       "6               US            L                    6  \n",
       "7               CA            M                    6  "
      ]
     },
     "execution_count": 45,
     "metadata": {},
     "output_type": "execute_result"
    }
   ],
   "source": [
    "df = pd.read_csv(\"salario_profissionais_dados.csv\")\n",
    "df.head(8)"
   ]
  },
  {
   "cell_type": "markdown",
   "id": "a1947247",
   "metadata": {},
   "source": [
    "Analisando o estado dos dados para se preparar para realizar as análises."
   ]
  },
  {
   "cell_type": "code",
   "execution_count": 46,
   "id": "c44b7d14",
   "metadata": {},
   "outputs": [
    {
     "name": "stdout",
     "output_type": "stream",
     "text": [
      "<class 'pandas.core.frame.DataFrame'>\n",
      "RangeIndex: 3755 entries, 0 to 3754\n",
      "Data columns (total 10 columns):\n",
      " #   Column               Non-Null Count  Dtype \n",
      "---  ------               --------------  ----- \n",
      " 0   work_year            3755 non-null   int64 \n",
      " 1   country              3755 non-null   object\n",
      " 2   region               3755 non-null   object\n",
      " 3   experience_level     3755 non-null   object\n",
      " 4   job_title            3755 non-null   object\n",
      " 5   salary_in_usd        3755 non-null   int64 \n",
      " 6   employee_residence   3755 non-null   object\n",
      " 7   company_location     3755 non-null   object\n",
      " 8   company_size         3755 non-null   object\n",
      " 9   years_of_experience  3755 non-null   int64 \n",
      "dtypes: int64(3), object(7)\n",
      "memory usage: 293.5+ KB\n"
     ]
    }
   ],
   "source": [
    "df.info()"
   ]
  },
  {
   "cell_type": "code",
   "execution_count": 47,
   "id": "f383a750",
   "metadata": {},
   "outputs": [
    {
     "data": {
      "text/plain": [
       "work_year               int64\n",
       "country                object\n",
       "region                 object\n",
       "experience_level       object\n",
       "job_title              object\n",
       "salary_in_usd           int64\n",
       "employee_residence     object\n",
       "company_location       object\n",
       "company_size           object\n",
       "years_of_experience     int64\n",
       "dtype: object"
      ]
     },
     "execution_count": 47,
     "metadata": {},
     "output_type": "execute_result"
    }
   ],
   "source": [
    "df.dtypes"
   ]
  },
  {
   "cell_type": "code",
   "execution_count": 48,
   "id": "2ce5357f",
   "metadata": {},
   "outputs": [
    {
     "data": {
      "text/plain": [
       "(3755, 10)"
      ]
     },
     "execution_count": 48,
     "metadata": {},
     "output_type": "execute_result"
    }
   ],
   "source": [
    "df.shape"
   ]
  },
  {
   "cell_type": "code",
   "execution_count": 49,
   "id": "ec8bbcd1",
   "metadata": {},
   "outputs": [
    {
     "data": {
      "text/html": [
       "<div>\n",
       "<style scoped>\n",
       "    .dataframe tbody tr th:only-of-type {\n",
       "        vertical-align: middle;\n",
       "    }\n",
       "\n",
       "    .dataframe tbody tr th {\n",
       "        vertical-align: top;\n",
       "    }\n",
       "\n",
       "    .dataframe thead th {\n",
       "        text-align: right;\n",
       "    }\n",
       "</style>\n",
       "<table border=\"1\" class=\"dataframe\">\n",
       "  <thead>\n",
       "    <tr style=\"text-align: right;\">\n",
       "      <th></th>\n",
       "      <th>work_year</th>\n",
       "      <th>salary_in_usd</th>\n",
       "      <th>years_of_experience</th>\n",
       "    </tr>\n",
       "  </thead>\n",
       "  <tbody>\n",
       "    <tr>\n",
       "      <th>count</th>\n",
       "      <td>3755.000000</td>\n",
       "      <td>3755.000000</td>\n",
       "      <td>3755.000000</td>\n",
       "    </tr>\n",
       "    <tr>\n",
       "      <th>mean</th>\n",
       "      <td>2022.373635</td>\n",
       "      <td>137570.389880</td>\n",
       "      <td>5.970972</td>\n",
       "    </tr>\n",
       "    <tr>\n",
       "      <th>std</th>\n",
       "      <td>0.691448</td>\n",
       "      <td>63055.625278</td>\n",
       "      <td>2.062673</td>\n",
       "    </tr>\n",
       "    <tr>\n",
       "      <th>min</th>\n",
       "      <td>2020.000000</td>\n",
       "      <td>5132.000000</td>\n",
       "      <td>1.000000</td>\n",
       "    </tr>\n",
       "    <tr>\n",
       "      <th>25%</th>\n",
       "      <td>2022.000000</td>\n",
       "      <td>95000.000000</td>\n",
       "      <td>5.000000</td>\n",
       "    </tr>\n",
       "    <tr>\n",
       "      <th>50%</th>\n",
       "      <td>2022.000000</td>\n",
       "      <td>135000.000000</td>\n",
       "      <td>6.000000</td>\n",
       "    </tr>\n",
       "    <tr>\n",
       "      <th>75%</th>\n",
       "      <td>2023.000000</td>\n",
       "      <td>175000.000000</td>\n",
       "      <td>8.000000</td>\n",
       "    </tr>\n",
       "    <tr>\n",
       "      <th>max</th>\n",
       "      <td>2023.000000</td>\n",
       "      <td>450000.000000</td>\n",
       "      <td>10.000000</td>\n",
       "    </tr>\n",
       "  </tbody>\n",
       "</table>\n",
       "</div>"
      ],
      "text/plain": [
       "         work_year  salary_in_usd  years_of_experience\n",
       "count  3755.000000    3755.000000          3755.000000\n",
       "mean   2022.373635  137570.389880             5.970972\n",
       "std       0.691448   63055.625278             2.062673\n",
       "min    2020.000000    5132.000000             1.000000\n",
       "25%    2022.000000   95000.000000             5.000000\n",
       "50%    2022.000000  135000.000000             6.000000\n",
       "75%    2023.000000  175000.000000             8.000000\n",
       "max    2023.000000  450000.000000            10.000000"
      ]
     },
     "execution_count": 49,
     "metadata": {},
     "output_type": "execute_result"
    }
   ],
   "source": [
    "df.describe()"
   ]
  },
  {
   "cell_type": "markdown",
   "id": "ec3a8059",
   "metadata": {},
   "source": [
    "\n",
    "Procurando valores nulos (embora esta informação já tenha ficado clara na primeira análise, apenas para simples conferência de domínio dos comandos)"
   ]
  },
  {
   "cell_type": "code",
   "execution_count": 50,
   "id": "2647393f",
   "metadata": {},
   "outputs": [
    {
     "data": {
      "text/plain": [
       "work_year              0\n",
       "country                0\n",
       "region                 0\n",
       "experience_level       0\n",
       "job_title              0\n",
       "salary_in_usd          0\n",
       "employee_residence     0\n",
       "company_location       0\n",
       "company_size           0\n",
       "years_of_experience    0\n",
       "dtype: int64"
      ]
     },
     "execution_count": 50,
     "metadata": {},
     "output_type": "execute_result"
    }
   ],
   "source": [
    "df.isnull().sum()"
   ]
  },
  {
   "cell_type": "code",
   "execution_count": 51,
   "id": "716cac29",
   "metadata": {},
   "outputs": [
    {
     "data": {
      "text/plain": [
       "work_year              0\n",
       "country                0\n",
       "region                 0\n",
       "experience_level       0\n",
       "job_title              0\n",
       "salary_in_usd          0\n",
       "employee_residence     0\n",
       "company_location       0\n",
       "company_size           0\n",
       "years_of_experience    0\n",
       "dtype: int64"
      ]
     },
     "execution_count": 51,
     "metadata": {},
     "output_type": "execute_result"
    }
   ],
   "source": [
    "df.isna().sum()"
   ]
  },
  {
   "cell_type": "code",
   "execution_count": 62,
   "id": "7fe0869a",
   "metadata": {},
   "outputs": [
    {
     "data": {
      "text/plain": [
       "work_year                 4\n",
       "country                  78\n",
       "region                    5\n",
       "experience_level          4\n",
       "job_title                93\n",
       "salary_in_usd          1035\n",
       "employee_residence       78\n",
       "company_location         72\n",
       "company_size              3\n",
       "years_of_experience      10\n",
       "dtype: int64"
      ]
     },
     "execution_count": 62,
     "metadata": {},
     "output_type": "execute_result"
    }
   ],
   "source": [
    "df.nunique()"
   ]
  },
  {
   "cell_type": "markdown",
   "id": "0122554d",
   "metadata": {},
   "source": [
    "Verificando a reincidência dos dados: Tipo de empregado, nível de experiência e Tamanho da empresa. (Em porcentagens)"
   ]
  },
  {
   "cell_type": "code",
   "execution_count": 53,
   "id": "7ba436b1",
   "metadata": {},
   "outputs": [
    {
     "data": {
      "text/plain": [
       "job_title\n",
       "Data Engineer                27.696405\n",
       "Data Scientist               22.370173\n",
       "Data Analyst                 16.298269\n",
       "Machine Learning Engineer     7.696405\n",
       "Analytics Engineer            2.743009\n",
       "Data Architect                2.689747\n",
       "Research Scientist            2.183755\n",
       "Applied Scientist             1.544607\n",
       "Data Science Manager          1.544607\n",
       "Research Engineer             0.985353\n",
       "Name: proportion, dtype: float64"
      ]
     },
     "execution_count": 53,
     "metadata": {},
     "output_type": "execute_result"
    }
   ],
   "source": [
    "(df['job_title']).value_counts(normalize=True).head(10) * 100"
   ]
  },
  {
   "cell_type": "code",
   "execution_count": 54,
   "id": "c9baceda",
   "metadata": {},
   "outputs": [
    {
     "data": {
      "text/plain": [
       "experience_level\n",
       "SE    67.003995\n",
       "MI    21.438083\n",
       "EN     8.521971\n",
       "EX     3.035952\n",
       "Name: proportion, dtype: float64"
      ]
     },
     "execution_count": 54,
     "metadata": {},
     "output_type": "execute_result"
    }
   ],
   "source": [
    "(df['experience_level']).value_counts(normalize=True).head(10) * 100"
   ]
  },
  {
   "cell_type": "code",
   "execution_count": 55,
   "id": "28595f37",
   "metadata": {},
   "outputs": [
    {
     "data": {
      "text/plain": [
       "company_size\n",
       "M    83.968043\n",
       "L    12.090546\n",
       "S     3.941411\n",
       "Name: proportion, dtype: float64"
      ]
     },
     "execution_count": 55,
     "metadata": {},
     "output_type": "execute_result"
    }
   ],
   "source": [
    "(df['company_size']).value_counts(normalize=True).head(10) * 100"
   ]
  },
  {
   "cell_type": "markdown",
   "id": "5d95f7ef",
   "metadata": {},
   "source": [
    "Retirando a Média, Mediana dos salários:"
   ]
  },
  {
   "cell_type": "code",
   "execution_count": 65,
   "id": "6084d975",
   "metadata": {},
   "outputs": [
    {
     "name": "stdout",
     "output_type": "stream",
     "text": [
      "Media dos salários: USD 137570.39\n"
     ]
    }
   ],
   "source": [
    "mediasalary = df['salary_in_usd'].mean()\n",
    "print(f\"Media dos salários: USD {mediasalary:.2f}\")"
   ]
  },
  {
   "cell_type": "code",
   "execution_count": 68,
   "id": "f595d60d",
   "metadata": {},
   "outputs": [
    {
     "name": "stdout",
     "output_type": "stream",
     "text": [
      "Mediana dos salários: USD 135000.00\n"
     ]
    }
   ],
   "source": [
    "medianasalary = df['salary_in_usd'].median()\n",
    "print(f\"Mediana dos salários: USD {medianasalary:.2f}\")"
   ]
  }
 ],
 "metadata": {
  "kernelspec": {
   "display_name": "Python 3",
   "language": "python",
   "name": "python3"
  },
  "language_info": {
   "codemirror_mode": {
    "name": "ipython",
    "version": 3
   },
   "file_extension": ".py",
   "mimetype": "text/x-python",
   "name": "python",
   "nbconvert_exporter": "python",
   "pygments_lexer": "ipython3",
   "version": "3.13.1"
  }
 },
 "nbformat": 4,
 "nbformat_minor": 5
}
